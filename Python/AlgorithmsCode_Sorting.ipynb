{
  "nbformat": 4,
  "nbformat_minor": 0,
  "metadata": {
    "colab": {
      "name": "AlgorithmsCode_Sorting.ipynb",
      "provenance": [],
      "collapsed_sections": [],
      "toc_visible": true
    },
    "kernelspec": {
      "name": "python3",
      "display_name": "Python 3"
    },
    "language_info": {
      "name": "python"
    }
  },
  "cells": [
    {
      "cell_type": "markdown",
      "metadata": {
        "id": "DaoEtmqa0cOi"
      },
      "source": [
        "# ***INSERTION_SORT***\n",
        "\n"
      ]
    },
    {
      "cell_type": "code",
      "metadata": {
        "colab": {
          "base_uri": "https://localhost:8080/"
        },
        "id": "G0C2LvarvLRZ",
        "outputId": "0f4faffd-9556-44f0-8d9d-8778b683f6eb"
      },
      "source": [
        "def insertion_sort(arr ,n):\n",
        "  for i in range(1,len(arr)):\n",
        "    key=arr[i]\n",
        "    j=i-1\n",
        "    while j>=0 and arr[j]>key:\n",
        "      arr[j+1] =arr[j]\n",
        "      j=j-1\n",
        "    arr[j+1]=key \n",
        "\n",
        "n =int(input(\"Size:\"))\n",
        "arr=[]\n",
        "for i in range (0,n):\n",
        "  item=int(input())\n",
        "  arr.append(item)\n",
        "insertion_sort(arr,n)\n",
        "for i in range(0,n):\n",
        "  print (arr[i],end=\" \")"
      ],
      "execution_count": null,
      "outputs": [
        {
          "output_type": "stream",
          "text": [
            "Size:4\n",
            "12\n",
            "34\n",
            "56\n",
            "2\n",
            "2 12 34 56 "
          ],
          "name": "stdout"
        }
      ]
    },
    {
      "cell_type": "markdown",
      "metadata": {
        "id": "0VG04VDj0zTh"
      },
      "source": [
        "# ***QUICK_SORT***"
      ]
    },
    {
      "cell_type": "code",
      "metadata": {
        "colab": {
          "base_uri": "https://localhost:8080/"
        },
        "id": "SIzTRqGZ2-VK",
        "outputId": "3e99406a-f6c6-4683-d2c3-266703d0b0b2"
      },
      "source": [
        "def partition(start ,end,arr):\n",
        "  pivot_index=start\n",
        "  pivot =arr[start]\n",
        "  while start<end:\n",
        "    while start <len(arr) and arr[start] <= pivot :\n",
        "      start += 1\n",
        "    while arr[end] > pivot :\n",
        "      end -= 1\n",
        "    if start < end:\n",
        "      arr[start] ,arr [end] = arr[end], arr[start]\n",
        "  \n",
        "  arr[end] ,arr[pivot_index] =arr[pivot_index] ,arr[end]\n",
        "  return end\n",
        "\n",
        "def quick_sort(start ,end ,arr):\n",
        "  if start <end :\n",
        "    p=partition(start,end,arr)\n",
        "    quick_sort(start,p-1,arr)\n",
        "    quick_sort(p+1,end,arr)\n",
        "\n",
        "array = [ 10, 7, 8, 9, 1, 5 ]\n",
        "quick_sort(0, len(array) - 1, array)\n",
        " \n",
        "print(f'Sorted array: {array}')"
      ],
      "execution_count": null,
      "outputs": [
        {
          "output_type": "stream",
          "text": [
            "Sorted array: [1, 5, 7, 8, 9, 10]\n"
          ],
          "name": "stdout"
        }
      ]
    },
    {
      "cell_type": "markdown",
      "metadata": {
        "id": "u6lS8le01GiQ"
      },
      "source": [
        "# ***MERGE_SORT***"
      ]
    },
    {
      "cell_type": "code",
      "metadata": {
        "id": "9iLZqpd81OxK",
        "colab": {
          "base_uri": "https://localhost:8080/"
        },
        "outputId": "e1c07950-c122-431d-a262-a1118244e524"
      },
      "source": [
        "def merge_sort(arr):\n",
        "  if len(arr)>1:\n",
        "    mid=len(arr)//2\n",
        "    L=arr[:mid]\n",
        "    R=arr[mid:]\n",
        "    merge_sort(L)\n",
        "    merge_sort(R)\n",
        "    i=j=k=0\n",
        "    while i<len(L) and j<len(R):\n",
        "      if L[i]<R[j]:\n",
        "        arr[k]=L[i]\n",
        "        i+=1\n",
        "      else:\n",
        "        arr[k]=R[j]\n",
        "        j+=1\n",
        "      k+=1\n",
        "    while i< len(L):\n",
        "      arr[k]=L[i]\n",
        "      i+=1\n",
        "      k+=1\n",
        "    while j<len(R):\n",
        "      arr[k]=R[j]\n",
        "      j+=1\n",
        "      k+=1\n",
        "arr=[12,90,37,3,89]\n",
        "merge_sort(arr)\n",
        "for i in range(0,len(arr)):\n",
        "  print(arr[i],end=\" \")\n"
      ],
      "execution_count": null,
      "outputs": [
        {
          "output_type": "stream",
          "text": [
            "3 12 37 89 90 "
          ],
          "name": "stdout"
        }
      ]
    },
    {
      "cell_type": "markdown",
      "metadata": {
        "id": "j31ceSnNwGLl"
      },
      "source": [
        "# *HEAP_SORT*"
      ]
    },
    {
      "cell_type": "code",
      "metadata": {
        "id": "R2ajQm75wfzu"
      },
      "source": [
        "def heapify(arr,n,i):\n",
        "  largest =i\n",
        "  left=2*i\n",
        "  right=2*i+1\n",
        "  if left<n and arr[left] >arr[i]:\n",
        "    largest = left\n",
        "  if right<n and arr[right] >arr[i]:\n",
        "    largest = right\n",
        "  if largest !=i :\n",
        "    arr[i] ,arr[largest] =arr[largest] ,arr[i]\n",
        "    heapify(arr,n,largest)\n",
        "def heapSort(arr):\n",
        "\tn = len(arr)\n",
        "\tfor i in range(n//2 - 1, -1, -1):\n",
        "\t\theapify(arr, n, i)\n",
        "\tfor i in range(n-1, 0, -1):\n",
        "\t\tarr[i], arr[0] = arr[0], arr[i] \n",
        "\t\theapify(arr, i, 0)\n",
        "arr = [12, 67, 13, 85, 6, 24]\n",
        "heapSort(arr)\n",
        "n = len(arr)\n",
        "print(\"Sorted array is\")\n",
        "for i in range(n):\n",
        "\tprint(\"%d\" % arr[i]),"
      ],
      "execution_count": null,
      "outputs": []
    },
    {
      "cell_type": "markdown",
      "metadata": {
        "id": "SfPYyLx8wjNk"
      },
      "source": [
        "## ***SHELL_SORT***"
      ]
    },
    {
      "cell_type": "code",
      "metadata": {
        "id": "u2ZneCOgwifu"
      },
      "source": [
        "def shellSort(arr):\n",
        "\tgap = len(arr) // 2 \n",
        "\twhile gap > 0:\n",
        "\t\ti = 0\n",
        "\t\tj = gap\n",
        "\t\twhile j < len(arr):\n",
        "\t\t\tif arr[i] >arr[j]:\n",
        "\t\t\t\tarr[i],arr[j] = arr[j],arr[i]\n",
        "\t\t\ti += 1\n",
        "\t\t\tj += 1\n",
        "\t\twhile i - gap != -1:\n",
        "\t\t\tif arr[i - gap] > arr[i]:\n",
        "\t\t\t\tarr[i-gap],arr[i] = arr[i],arr[i-gap]\n",
        "\t\t\ti -= 1\n",
        "\t\tgap //= 2\n",
        "arr = [9,8,3,7,5,6,4,1]\n",
        "shellSort(arr2)\n",
        "print(\"sorted array\",arr)"
      ],
      "execution_count": null,
      "outputs": []
    },
    {
      "cell_type": "markdown",
      "metadata": {
        "id": "hfbquuqqwn9u"
      },
      "source": [
        "# ***RADIX_SORT***"
      ]
    },
    {
      "cell_type": "code",
      "metadata": {
        "id": "L7ZqibnMwuQV"
      },
      "source": [
        ""
      ],
      "execution_count": null,
      "outputs": []
    },
    {
      "cell_type": "markdown",
      "metadata": {
        "id": "MY9Wt6aNwu-P"
      },
      "source": [
        "# ***COUNTING_SORT***"
      ]
    },
    {
      "cell_type": "code",
      "metadata": {
        "id": "IOL-C7086ziT"
      },
      "source": [
        ""
      ],
      "execution_count": null,
      "outputs": []
    }
  ]
}